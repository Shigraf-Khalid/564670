{
  "nbformat": 4,
  "nbformat_minor": 0,
  "metadata": {
    "colab": {
      "provenance": [],
      "authorship_tag": "ABX9TyNDSICQbv3u6Fb48ljAG+ZA",
      "include_colab_link": true
    },
    "kernelspec": {
      "name": "python3",
      "display_name": "Python 3"
    },
    "language_info": {
      "name": "python"
    }
  },
  "cells": [
    {
      "cell_type": "markdown",
      "metadata": {
        "id": "view-in-github",
        "colab_type": "text"
      },
      "source": [
        "<a href=\"https://colab.research.google.com/github/Shigraf-Khalid/564670/blob/main/Chat_Bot_3192024.ipynb\" target=\"_parent\"><img src=\"https://colab.research.google.com/assets/colab-badge.svg\" alt=\"Open In Colab\"/></a>"
      ]
    },
    {
      "cell_type": "code",
      "source": [
        "# Shigraf-related questions and responses\n",
        "shigraf_responses = {\n",
        "  \"who is shigraf\": \"Shigraf Khalid is an ambitious engineering student deeply immersed in the world of artificial intelligence and data analysis. Their background also includes a strong foundation in technology and digital marketing, with 1.5 years of practical experience and certifications from Google and Coursera.\",\n",
        "  \"what is shigraf's background\": \"As mentioned earlier, Shigraf has a well-rounded background in technology and digital marketing, further strengthened by 1.5 years of hands-on experience and certifications from Google and Coursera. However, their true passion lies in exploring the exciting frontiers of Artificial Intelligence (AI).\",\n",
        "  \"what is shigraf's area of interest\": \"There's no doubt - Shigraf is particularly interested in pushing the boundaries of Artificial Intelligence (AI).\",\n",
        "  \"what are shigraf's skills\": \"Shigraf possesses a valuable skillset that includes data analysis using R and SQL, the ability to captivate audiences through public speaking, and a talent for fostering collaboration within tech communities like the CISCO community in Pakistan.\",\n",
        "  \"what are shigraf's achievements\": \"Shigraf has a proven track record of success! They've undertaken impactful projects in data analysis, honing their analytical skills and gaining valuable insights that can be used for data-driven decision-making.\",\n",
        "  \"can you tell me more about shigraf's communication skills\": \"Shigraf is a skilled public speaker who isn't afraid to share their knowledge and inspire others. Their communication abilities are a definite asset!\",\n",
        "  \"what is shigraf's current role\": \"Shigraf currently serves as the Campus Lead Ambassador for the CISCO community in Pakistan. This role allows them to foster collaboration and knowledge exchange within the realms of AI and data analysis.\",\n",
        "  \"what are shigraf's goals\": \"While I can't say for certain, Shigraf's dedication to AI and data analysis suggests a desire to make a significant contribution in these fields. Perhaps you could ask Shigraf directly about their aspirations!\",\n",
        "  \"what can you tell me about shigraf's personality\": \"Based on the information available, Shigraf seems to be an ambitious and passionate individual who thrives on learning and sharing knowledge. Their leadership role as a Campus Lead Ambassador further suggests strong leadership and collaboration skills.\",\n",
        "  \"how can I learn more about shigraf's work\": \"Unfortunately, I don't have access to Shigraf's specific portfolio at this moment. However, you could try searching online or reaching out through the CISCO community. Perhaps Shigraf would be happy to connect directly!\"\n",
        "}\n",
        "\n",
        "def get_response(message):\n",
        "  \"\"\"Chooses an appropriate response based on the user's message.\n",
        "\n",
        "  Args:\n",
        "      message: The user's message (str).\n",
        "\n",
        "  Returns:\n",
        "      str: A response from the bot.\n",
        "  \"\"\"\n",
        "\n",
        "\n",
        "  if message.lower() in shigraf_responses:\n",
        "    return shigraf_responses[message.lower()]\n",
        "\n",
        "\n",
        "  else:\n",
        "    return \"Sorry, I don't know anything about that. But I can answer questions about Shigraf!\"\n",
        "\n",
        "\n",
        "while True:\n",
        "    user_message = input(\"You: \")\n",
        "    if user_message.lower() == \"quit\":\n",
        "        break\n",
        "    bot_message = get_response(user_message)\n",
        "    print(\"Bot:\", bot_message)\n",
        "\n",
        "print(\"Conversation ended.\")\n"
      ],
      "metadata": {
        "colab": {
          "base_uri": "https://localhost:8080/"
        },
        "id": "5wMRH5fwVRxG",
        "outputId": "99ead328-cd00-49a5-b856-e4c7223a4987"
      },
      "execution_count": null,
      "outputs": [
        {
          "output_type": "stream",
          "name": "stdout",
          "text": [
            "You: who is shigraf\n",
            "Bot: Shigraf Khalid is an ambitious engineering student deeply immersed in the world of artificial intelligence and data analysis. Their background also includes a strong foundation in technology and digital marketing, with 1.5 years of practical experience and certifications from Google and Coursera.\n",
            "You: what are shigraf's goals\n",
            "Bot: While I can't say for certain, Shigraf's dedication to AI and data analysis suggests a desire to make a significant contribution in these fields. Perhaps you could ask Shigraf directly about their aspirations!\n",
            "You: what are shigraf's skills\n",
            "Bot: Shigraf possesses a valuable skillset that includes data analysis using R and SQL, the ability to captivate audiences through public speaking, and a talent for fostering collaboration within tech communities like the CISCO community in Pakistan.\n"
          ]
        }
      ]
    }
  ]
}